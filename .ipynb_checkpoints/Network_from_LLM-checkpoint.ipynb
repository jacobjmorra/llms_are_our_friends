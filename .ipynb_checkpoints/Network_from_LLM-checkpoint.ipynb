{
 "cells": [
  {
   "cell_type": "code",
   "execution_count": null,
   "id": "4aeb7fe8-e9f4-4a87-b83b-973297ecfea6",
   "metadata": {},
   "outputs": [],
   "source": [
    "\"\"\"\n",
    "1) Read from the same movie text files (X lines, 5000 for now but can specify)\n",
    "2) Create a prompt for an LLM which tells the LLM to generate a heirarchy of movies based on their script\n",
    "3) Use the transformers .from_pretrained method with mistralai/Mistral-7B-v0.1, to feed the prompt to this model, and have it generate a heirarchy\n",
    "4) Then, create a graph based on this heirarchy, and compare the graph created by the LLM to the one created manually\n",
    "\"\"\""
   ]
  },
  {
   "cell_type": "code",
   "execution_count": 1,
   "id": "914aae02-4da5-4458-92a4-2441c1a7319c",
   "metadata": {},
   "outputs": [
    {
     "data": {
      "text/plain": [
       "'\\nWhat is the point? What can we do?\\n'"
      ]
     },
     "execution_count": 1,
     "metadata": {},
     "output_type": "execute_result"
    }
   ],
   "source": [
    "\"\"\"\n",
    "What is the point? What can we do?\n",
    "1) Discover which features/words from graphs are most salient for deciding categories\n",
    "2) We really want to understand how an LLM will understand concepts.. how to do this?\n",
    "3) E.g. we can probe the attention heads and create movie representations..??\n",
    "4) E.g. we can do the same when it is looking at the movie reviews.. how do the spaces look?\n",
    "5) Beyond just comparing how they look, need a way of putting labels on movies back..\n",
    "\"\"\""
   ]
  },
  {
   "cell_type": "code",
   "execution_count": null,
   "id": "ec1df124-9a9a-45e3-9c67-ea54f47f064f",
   "metadata": {},
   "outputs": [],
   "source": []
  }
 ],
 "metadata": {
  "kernelspec": {
   "display_name": "Python 3 (ipykernel)",
   "language": "python",
   "name": "python3"
  },
  "language_info": {
   "codemirror_mode": {
    "name": "ipython",
    "version": 3
   },
   "file_extension": ".py",
   "mimetype": "text/x-python",
   "name": "python",
   "nbconvert_exporter": "python",
   "pygments_lexer": "ipython3",
   "version": "3.13.2"
  }
 },
 "nbformat": 4,
 "nbformat_minor": 5
}
